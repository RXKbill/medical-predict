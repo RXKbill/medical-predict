{
 "cells": [
  {
   "cell_type": "markdown",
   "metadata": {},
   "source": [
    "## Import dependency"
   ]
  },
  {
   "cell_type": "markdown",
   "metadata": {},
   "source": [
    "- Python3\n",
    "- pandas\n",
    "- scikit-learn\n",
    "- rdkit"
   ]
  },
  {
   "cell_type": "code",
   "execution_count": 12,
   "metadata": {},
   "outputs": [],
   "source": [
    "import pickle\n",
    "import pandas as pd\n",
    "from tqdm import tqdm\n",
    "from sklearn.ensemble import RandomForestRegressor\n",
    "from rdkit.Chem import rdMolDescriptors\n",
    "from rdkit import RDLogger,Chem\n",
    "import numpy as np\n",
    "RDLogger.DisableLog('rdApp.*')"
   ]
  },
  {
   "cell_type": "code",
   "execution_count": 9,
   "metadata": {},
   "outputs": [],
   "source": [
    "def mfgen(mol,nBits=2048, radius=2):\n",
    "    '''\n",
    "    Parameters\n",
    "    ----------\n",
    "    mol : mol\n",
    "        RDKit mol object.\n",
    "    nBits : int\n",
    "        Number of bits for the fingerprint.\n",
    "    radius : int\n",
    "        Radius of the Morgan fingerprint.\n",
    "    Returns\n",
    "    -------\n",
    "    mf_desc_map : ndarray\n",
    "        ndarray of molecular fingerprint descriptors.\n",
    "    '''\n",
    "    fp = rdMolDescriptors.GetMorganFingerprintAsBitVect(mol,radius=radius,nBits=nBits)\n",
    "    return np.array(list(map(eval,list(fp.ToBitString()))))\n",
    "\n",
    "def vec_cpd_lst(smi_lst):\n",
    "    smi_set = list(set(smi_lst))\n",
    "    smi_vec_map = {}\n",
    "    for smi in tqdm(smi_set):\n",
    "        mol = Chem.MolFromSmiles(smi)\n",
    "        smi_vec_map[smi] = mfgen(mol)\n",
    "    smi_vec_map[''] = np.zeros(2048)\n",
    "    \n",
    "    vec_lst = [smi_vec_map[smi] for smi in smi_lst]\n",
    "    return np.array(vec_lst)"
   ]
  },
  {
   "cell_type": "markdown",
   "metadata": {},
   "source": [
    "## Vectorization"
   ]
  },
  {
   "cell_type": "code",
   "execution_count": 26,
   "metadata": {},
   "outputs": [
    {
     "name": "stdout",
     "output_type": "stream",
     "text": [
      "Training set size: 23538, test set size: 2616\n"
     ]
    }
   ],
   "source": [
    "dataset_dir = './dataset'   # Change this to your dataset directory\n",
    "\n",
    "train_df = pd.read_csv(f'{dataset_dir}/round1_train_data.csv')\n",
    "test_df = pd.read_csv(f'{dataset_dir}/round1_test_data.csv')\n",
    "\n",
    "print(f'Training set size: {len(train_df)}, test set size: {len(test_df)}')"
   ]
  },
  {
   "cell_type": "code",
   "execution_count": 27,
   "metadata": {},
   "outputs": [
    {
     "name": "stderr",
     "output_type": "stream",
     "text": [
      "100%|██████████| 6081/6081 [00:41<00:00, 147.53it/s]\n",
      "100%|██████████| 8763/8763 [00:59<00:00, 147.84it/s]\n",
      "100%|██████████| 1284/1284 [00:08<00:00, 146.26it/s]\n",
      "100%|██████████| 432/432 [00:02<00:00, 149.25it/s]\n",
      "100%|██████████| 1257/1257 [00:08<00:00, 144.55it/s]\n",
      "100%|██████████| 1743/1743 [00:11<00:00, 148.19it/s]\n",
      "100%|██████████| 404/404 [00:02<00:00, 148.87it/s]\n",
      "100%|██████████| 143/143 [00:00<00:00, 148.19it/s]\n"
     ]
    }
   ],
   "source": [
    "train_rct1_smi = train_df['Reactant1'].to_list()\n",
    "train_rct2_smi = train_df['Reactant2'].to_list()\n",
    "train_add_smi = train_df['Additive'].to_list()\n",
    "train_sol_smi = train_df['Solvent'].to_list()\n",
    "\n",
    "train_rct1_fp = vec_cpd_lst(train_rct1_smi)\n",
    "train_rct2_fp = vec_cpd_lst(train_rct2_smi)\n",
    "train_add_fp = vec_cpd_lst(train_add_smi)\n",
    "train_sol_fp = vec_cpd_lst(train_sol_smi)\n",
    "train_x = np.concatenate([train_rct1_fp,train_rct2_fp,train_add_fp,train_sol_fp],axis=1)\n",
    "train_y = train_df['Yield'].to_numpy()\n",
    "\n",
    "test_rct1_smi = test_df['Reactant1'].to_list()\n",
    "test_rct2_smi = test_df['Reactant2'].to_list()\n",
    "test_add_smi = test_df['Additive'].to_list()\n",
    "test_sol_smi = test_df['Solvent'].to_list()\n",
    "\n",
    "test_rct1_fp = vec_cpd_lst(test_rct1_smi)\n",
    "test_rct2_fp = vec_cpd_lst(test_rct2_smi)\n",
    "test_add_fp = vec_cpd_lst(test_add_smi)\n",
    "test_sol_fp = vec_cpd_lst(test_sol_smi)\n",
    "test_x = np.concatenate([test_rct1_fp,test_rct2_fp,test_add_fp,test_sol_fp],axis=1)"
   ]
  },
  {
   "cell_type": "markdown",
   "metadata": {},
   "source": [
    "## Model fitting and saving"
   ]
  },
  {
   "cell_type": "code",
   "execution_count": 28,
   "metadata": {},
   "outputs": [
    {
     "data": {
      "text/plain": [
       "RandomForestRegressor(max_depth=10, n_jobs=-1)"
      ]
     },
     "execution_count": 28,
     "metadata": {},
     "output_type": "execute_result"
    }
   ],
   "source": [
    "# Model fitting\n",
    "model = RandomForestRegressor(n_estimators=100,max_depth=10,min_samples_split=2,min_samples_leaf=1,n_jobs=-1)\n",
    "model.fit(train_x,train_y)"
   ]
  },
  {
   "cell_type": "code",
   "execution_count": 29,
   "metadata": {},
   "outputs": [],
   "source": [
    "# Saving model to file\n",
    "with open('./random_forest_model.pkl', 'wb') as file:\n",
    "    pickle.dump(model, file)"
   ]
  },
  {
   "cell_type": "code",
   "execution_count": 30,
   "metadata": {},
   "outputs": [],
   "source": [
    "# Load model from file\n",
    "with open('random_forest_model.pkl', 'rb') as file:\n",
    "    loaded_model = pickle.load(file)"
   ]
  },
  {
   "cell_type": "code",
   "execution_count": 33,
   "metadata": {},
   "outputs": [],
   "source": [
    "# Inference\n",
    "test_pred = loaded_model.predict(test_x)"
   ]
  },
  {
   "cell_type": "markdown",
   "metadata": {},
   "source": [
    "## Answer generation"
   ]
  },
  {
   "cell_type": "code",
   "execution_count": 35,
   "metadata": {},
   "outputs": [],
   "source": [
    "ans_str_lst = ['rxnid,Yield']\n",
    "for idx,y in enumerate(test_pred):\n",
    "    ans_str_lst.append(f'test{idx+1},{y:.4f}')\n",
    "with open('./submit.txt','w') as fw:\n",
    "    fw.writelines('\\n'.join(ans_str_lst))"
   ]
  }
 ],
 "metadata": {
  "kernelspec": {
   "display_name": "base",
   "language": "python",
   "name": "python3"
  },
  "language_info": {
   "codemirror_mode": {
    "name": "ipython",
    "version": 3
   },
   "file_extension": ".py",
   "mimetype": "text/x-python",
   "name": "python",
   "nbconvert_exporter": "python",
   "pygments_lexer": "ipython3",
   "version": "3.9.13"
  }
 },
 "nbformat": 4,
 "nbformat_minor": 2
}
